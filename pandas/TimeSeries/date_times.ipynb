{
 "cells": [
  {
   "cell_type": "code",
   "id": "initial_id",
   "metadata": {
    "collapsed": true,
    "ExecuteTime": {
     "end_time": "2025-03-18T14:45:59.489021Z",
     "start_time": "2025-03-18T14:45:59.474995Z"
    }
   },
   "source": [
    "#native python dates and times: datetime and dateutil\n",
    "from datetime import datetime\n",
    "datetime(year=2015, month=7, day=4)"
   ],
   "outputs": [
    {
     "data": {
      "text/plain": [
       "datetime.datetime(2015, 7, 4, 0, 0)"
      ]
     },
     "execution_count": 1,
     "metadata": {},
     "output_type": "execute_result"
    }
   ],
   "execution_count": 1
  },
  {
   "metadata": {
    "ExecuteTime": {
     "end_time": "2025-03-18T14:47:01.467438Z",
     "start_time": "2025-03-18T14:47:01.450822Z"
    }
   },
   "cell_type": "code",
   "source": [
    "from dateutil import parser\n",
    "date = parser.parse(\"4th of July, 2015\")\n",
    "date"
   ],
   "id": "1a8d07ab41927556",
   "outputs": [
    {
     "data": {
      "text/plain": [
       "datetime.datetime(2015, 7, 4, 0, 0)"
      ]
     },
     "execution_count": 3,
     "metadata": {},
     "output_type": "execute_result"
    }
   ],
   "execution_count": 3
  },
  {
   "metadata": {
    "ExecuteTime": {
     "end_time": "2025-03-18T14:47:19.906833Z",
     "start_time": "2025-03-18T14:47:19.899073Z"
    }
   },
   "cell_type": "code",
   "source": "date.strftime('%A') #printing the day of the week",
   "id": "84a976375ee8796",
   "outputs": [
    {
     "data": {
      "text/plain": [
       "'Saturday'"
      ]
     },
     "execution_count": 4,
     "metadata": {},
     "output_type": "execute_result"
    }
   ],
   "execution_count": 4
  },
  {
   "metadata": {
    "ExecuteTime": {
     "end_time": "2025-03-18T14:48:48.381493Z",
     "start_time": "2025-03-18T14:48:48.223924Z"
    }
   },
   "cell_type": "code",
   "source": [
    "#typed arrays of time: datetime64\n",
    "import numpy as np\n",
    "date = np.array('2015-07-04', dtype='datetime64')\n",
    "date"
   ],
   "id": "a63d6e362b6f9069",
   "outputs": [
    {
     "data": {
      "text/plain": [
       "array('2015-07-04', dtype='datetime64[D]')"
      ]
     },
     "execution_count": 5,
     "metadata": {},
     "output_type": "execute_result"
    }
   ],
   "execution_count": 5
  },
  {
   "metadata": {
    "ExecuteTime": {
     "end_time": "2025-03-18T14:49:02.912595Z",
     "start_time": "2025-03-18T14:49:02.883027Z"
    }
   },
   "cell_type": "code",
   "source": "date + np.arange(12) #we can do vectorized operations",
   "id": "527533dce2c92988",
   "outputs": [
    {
     "data": {
      "text/plain": [
       "array(['2015-07-04', '2015-07-05', '2015-07-06', '2015-07-07',\n",
       "       '2015-07-08', '2015-07-09', '2015-07-10', '2015-07-11',\n",
       "       '2015-07-12', '2015-07-13', '2015-07-14', '2015-07-15'],\n",
       "      dtype='datetime64[D]')"
      ]
     },
     "execution_count": 6,
     "metadata": {},
     "output_type": "execute_result"
    }
   ],
   "execution_count": 6
  },
  {
   "metadata": {
    "ExecuteTime": {
     "end_time": "2025-03-18T14:50:21.313954Z",
     "start_time": "2025-03-18T14:50:21.309952Z"
    }
   },
   "cell_type": "code",
   "source": [
    "# One detail of the datetime64 and timedelta64 objects is that they are built on a fun\n",
    "#damental time unit. Because the datetime64 object is limited to 64-bit precision, the\n",
    "#range of encodable times is 264 times this fundamental unit. In other words, date\n",
    "#time64 imposes a trade-off between time resolution and maximum time span"
   ],
   "id": "48f2d1e73e33880c",
   "outputs": [],
   "execution_count": 7
  },
  {
   "metadata": {
    "ExecuteTime": {
     "end_time": "2025-03-18T14:51:24.591002Z",
     "start_time": "2025-03-18T14:51:24.584993Z"
    }
   },
   "cell_type": "code",
   "source": [
    "#time resolution of one nanosecond\n",
    "#here is a day-based datetime\n",
    "np.datetime64('2015-07-04')"
   ],
   "id": "c86ab265f6149272",
   "outputs": [
    {
     "data": {
      "text/plain": [
       "np.datetime64('2015-07-04')"
      ]
     },
     "execution_count": 8,
     "metadata": {},
     "output_type": "execute_result"
    }
   ],
   "execution_count": 8
  },
  {
   "metadata": {
    "ExecuteTime": {
     "end_time": "2025-03-18T14:51:58.792554Z",
     "start_time": "2025-03-18T14:51:58.780136Z"
    }
   },
   "cell_type": "code",
   "source": [
    "#here is a minute-based datetime\n",
    "np.datetime64('2015-07-04 12:00')"
   ],
   "id": "457ba49f0a235cb4",
   "outputs": [
    {
     "data": {
      "text/plain": [
       "np.datetime64('2015-07-04T12:00')"
      ]
     },
     "execution_count": 9,
     "metadata": {},
     "output_type": "execute_result"
    }
   ],
   "execution_count": 9
  },
  {
   "metadata": {
    "ExecuteTime": {
     "end_time": "2025-03-18T14:53:23.919193Z",
     "start_time": "2025-03-18T14:53:23.912123Z"
    }
   },
   "cell_type": "code",
   "source": [
    "#You can force any desired fundamental unit using one of many for\n",
    "#mat codes; for example, here we’ll force a nanosecond-based time\n",
    "np.datetime64('2015-07-04 12:00:50', 'ns')"
   ],
   "id": "64de75da012262d8",
   "outputs": [
    {
     "data": {
      "text/plain": [
       "np.datetime64('2015-07-04T12:00:50.000000000')"
      ]
     },
     "execution_count": 10,
     "metadata": {},
     "output_type": "execute_result"
    }
   ],
   "execution_count": 10
  }
 ],
 "metadata": {
  "kernelspec": {
   "display_name": "Python 3",
   "language": "python",
   "name": "python3"
  },
  "language_info": {
   "codemirror_mode": {
    "name": "ipython",
    "version": 2
   },
   "file_extension": ".py",
   "mimetype": "text/x-python",
   "name": "python",
   "nbconvert_exporter": "python",
   "pygments_lexer": "ipython2",
   "version": "2.7.6"
  }
 },
 "nbformat": 4,
 "nbformat_minor": 5
}
