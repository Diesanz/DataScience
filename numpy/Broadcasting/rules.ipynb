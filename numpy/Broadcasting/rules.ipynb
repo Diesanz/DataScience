{
 "cells": [
  {
   "cell_type": "code",
   "execution_count": 9,
   "metadata": {},
   "outputs": [
    {
     "data": {
      "text/plain": [
       "array([[1., 2., 3.],\n",
       "       [1., 2., 3.]])"
      ]
     },
     "execution_count": 9,
     "metadata": {},
     "output_type": "execute_result"
    }
   ],
   "source": [
    "#Broadcasting example 1\n",
    "\n",
    "import numpy as np\n",
    "\n",
    "M = np.ones((2, 3)) #shape (2,3) 2D\n",
    "\n",
    "a = np.arange(3) #shape (3,) 1D\n",
    "\n",
    "#Force a dimension to match the shape of M a.shape -> (2, 3)\n",
    "\n",
    "M + a"
   ]
  },
  {
   "cell_type": "code",
   "execution_count": 10,
   "metadata": {},
   "outputs": [
    {
     "data": {
      "text/plain": [
       "array([[0, 1, 2],\n",
       "       [1, 2, 3],\n",
       "       [2, 3, 4]])"
      ]
     },
     "execution_count": 10,
     "metadata": {},
     "output_type": "execute_result"
    }
   ],
   "source": [
    "#Broadcasting example 2\n",
    "\n",
    "a = np.arange(3).reshape((3, 1)) #shape (3, 1) 2D\n",
    "\n",
    "b = np.arange(3) #shape (3,) 1D\n",
    "\n",
    "#Pad the shape of b with ones b.shape -> (1, 3)\n",
    "\n",
    "#Upgrade each of these ones to match the corresponding size of the other array\n",
    "# a.shape = (3, 3), b.shape = (3, 3)\n",
    "\n",
    "a + b"
   ]
  },
  {
   "cell_type": "code",
   "execution_count": 11,
   "metadata": {},
   "outputs": [
    {
     "ename": "ValueError",
     "evalue": "operands could not be broadcast together with shapes (3,2) (3,) ",
     "output_type": "error",
     "traceback": [
      "\u001b[1;31m---------------------------------------------------------------------------\u001b[0m",
      "\u001b[1;31mValueError\u001b[0m                                Traceback (most recent call last)",
      "Cell \u001b[1;32mIn[11], line 10\u001b[0m\n\u001b[0;32m      4\u001b[0m a \u001b[38;5;241m=\u001b[39m np\u001b[38;5;241m.\u001b[39marange(\u001b[38;5;241m3\u001b[39m) \u001b[38;5;66;03m#shape (3, )\u001b[39;00m\n\u001b[0;32m      6\u001b[0m \u001b[38;5;66;03m#Pad the shape of a with ones a.shape -> (1, 3)\u001b[39;00m\n\u001b[0;32m      7\u001b[0m \u001b[38;5;66;03m# the first dimension of a is stretched to match that of b\u001b[39;00m\n\u001b[0;32m      8\u001b[0m \u001b[38;5;66;03m# M.shape = (3, 2), a.shape = (3, 3)\u001b[39;00m\n\u001b[1;32m---> 10\u001b[0m \u001b[43mM\u001b[49m\u001b[43m \u001b[49m\u001b[38;5;241;43m+\u001b[39;49m\u001b[43m \u001b[49m\u001b[43ma\u001b[49m\n",
      "\u001b[1;31mValueError\u001b[0m: operands could not be broadcast together with shapes (3,2) (3,) "
     ]
    }
   ],
   "source": [
    "#Broadcasting example 3\n",
    "\n",
    "M = np.ones((3, 2)) #shape (3, 2)\n",
    "a = np.arange(3) #shape (3, )\n",
    "\n",
    "#Pad the shape of a with ones a.shape -> (1, 3)\n",
    "# the first dimension of a is stretched to match that of b\n",
    "# M.shape = (3, 2), a.shape = (3, 3)\n",
    "\n",
    "M + a\n"
   ]
  },
  {
   "cell_type": "code",
   "execution_count": 12,
   "metadata": {},
   "outputs": [
    {
     "data": {
      "text/plain": [
       "(3, 1)"
      ]
     },
     "execution_count": 12,
     "metadata": {},
     "output_type": "execute_result"
    }
   ],
   "source": [
    "a[:, np.newaxis].shape"
   ]
  },
  {
   "cell_type": "code",
   "execution_count": 13,
   "metadata": {},
   "outputs": [
    {
     "data": {
      "text/plain": [
       "array([[1., 1.],\n",
       "       [2., 2.],\n",
       "       [3., 3.]])"
      ]
     },
     "execution_count": 13,
     "metadata": {},
     "output_type": "execute_result"
    }
   ],
   "source": [
    "M + a[:, np.newaxis]"
   ]
  },
  {
   "cell_type": "code",
   "execution_count": 14,
   "metadata": {},
   "outputs": [
    {
     "data": {
      "text/plain": [
       "array([[1.31326169, 1.31326169],\n",
       "       [1.69314718, 1.69314718],\n",
       "       [2.31326169, 2.31326169]])"
      ]
     },
     "execution_count": 14,
     "metadata": {},
     "output_type": "execute_result"
    }
   ],
   "source": [
    "np.logaddexp(M, a[:, np.newaxis])"
   ]
  }
 ],
 "metadata": {
  "kernelspec": {
   "display_name": "data_science",
   "language": "python",
   "name": "python3"
  },
  "language_info": {
   "codemirror_mode": {
    "name": "ipython",
    "version": 3
   },
   "file_extension": ".py",
   "mimetype": "text/x-python",
   "name": "python",
   "nbconvert_exporter": "python",
   "pygments_lexer": "ipython3",
   "version": "3.13.1"
  }
 },
 "nbformat": 4,
 "nbformat_minor": 2
}
